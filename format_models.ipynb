{
 "cells": [
  {
   "cell_type": "markdown",
   "metadata": {},
   "source": [
    "# Setting-up ToR-ORd and Grandi Models in Myokit\n",
    "This notebook will walk you through how the ToR-ORd and Grandi Models were set up and used in this study. First go to cellml.org, click the models tab and then search for the Tomek et al. and Grandi et al. models. Download the endocardial version of each model. Save *grandi_pasqualini_bers_2010_flat.cellml* and *Tomek_model_endo.cellml* into a folder where you would like to keep the models. Then, use the cellml_to_mmt functions from the important_functions.py file to translate the cellml files into mmt files. "
   ]
  },
  {
   "cell_type": "code",
   "execution_count": 1,
   "metadata": {},
   "outputs": [],
   "source": [
    "# import functions\n",
    "from important_functions import cellml_to_mmt, run_model, get_ind\n",
    "import matplotlib.pyplot as plt\n"
   ]
  },
  {
   "cell_type": "code",
   "execution_count": 1,
   "metadata": {},
   "outputs": [],
   "source": [
    "# Convert files from cellml to mmt\n",
    "cellml_to_mmt('./models/grandi_pasqualini_bers_2010_flat.cellml', './models/grandi_flat.mmt')\n",
    "cellml_to_mmt('./models/Tomek_model_endo.cellml', './models/tor_ord_endo2.mmt')"
   ]
  },
  {
   "cell_type": "markdown",
   "metadata": {},
   "source": [
    "The following updates were then made to tor_ord_endo2.mmt: \n",
    "\n",
    "1. Comment out lines 903-919 and 834-836\n",
    "2. Add the following three sections under the initial conditions:\n",
    "\n",
    "```\n",
    "[engine] \n",
    "time = 0 [ms] \n",
    "    in [ms] \n",
    "    bind time \n",
    "pace = 0 \n",
    "    bind pace \n",
    "\n",
    "[stimulus]\n",
    "i_stim = engine.pace * amplitude\n",
    "    in [A/F]\n",
    "amplitude = -10 [A/F]\n",
    "    in [A/F]\n",
    "\n",
    "[multipliers]\n",
    "i_cal_pca_multiplier = 1\n",
    "i_kr_multiplier = 1\n",
    "i_ks_multiplier = 1\n",
    "i_nal_multiplier = 1\n",
    "i_na_multiplier = 1\n",
    "i_to_multiplier = 1\n",
    "i_k1_multiplier = 1\n",
    "i_NCX_multiplier = 1\n",
    "i_nak_multiplier = 1\n",
    "i_kb_multiplier = 1\n",
    "i_bias_multiplier = 0\n",
    "i_bias1_multiplier = 0\n",
    "\n",
    "[Ibias]\n",
    "Ibias = 1 * membrane.vffrt/membrane.vffrt * multipliers.i_bias_multiplier \n",
    "Ibias1 = 1 * membrane.vffrt/membrane.vffrt * multipliers.i_bias1_multiplier \n",
    "```\n",
    "\n",
    "3. Multiply the PCa_b equation by multipliers.i_cal_pca_multiplier in line 146; the GKr_b equation by multipliers.i_kr_multiplier in line 311; the GKs_b equation by multipliers.i_ks_multiplier in line 345; the GNaL_b equation by multipliers.i_nal_multiplier in line 688; the GNa equation by multipliers.i_na_multiplier in line 367; the Gto_b equation by multipliers.i_to_multiplier in line 759; the GK1_b equation by multipliers.i_k1_multiplier in line 279; the Gncx_b equation by multipliers.i_NCX_multiplier in line 429; the Pnak_b equation by multipliers.i_nak_multiplier in line 637; and the GKb_b equation by multipliers.i_kb_multiplier in line 295.\n",
    "\n",
    "4. Add the following equation to the [membrane] section at line 951: \n",
    "```\n",
    "i_ion = INa.INa + INaL.INaL + Ito.Ito + ICaL.ICaL + ICaL.ICaNa + ICaL.ICaK + IKr.IKr + IKs.IKs + IK1.IK1 + INaCa.INaCa_i + INaCa.INaCa_ss + INaK.INaK + INab.INab + IKb.IKb + IpCa.IpCa + ICab.ICab + ICl.IClCa + ICl.IClb + I_katp.I_katp + Ibias.Ibias + Ibias.Ibias1\n",
    "```\n",
    "\n",
    "5. At line 952, change the dot(v) equation to:\n",
    "\n",
    "```\n",
    "dot(v) = -(i_ion + stimulus.i_stim)\n",
    "```\n",
    "\n",
    "6. Add the following section at line 1032:\n",
    "\n",
    "```\n",
    "[[protocol]]\n",
    "#Level  Start    Length   Period   Multiplier\n",
    "#5.3      0       1        1000      0\n",
    "```\n",
    "\n",
    "7. Change every ```membrane.Istim``` to ```stimulus.i_stim```\n",
    "\n",
    "Now check to make sure that this model works properly.\n"
   ]
  },
  {
   "cell_type": "code",
   "execution_count": 2,
   "metadata": {},
   "outputs": [
    {
     "name": "stderr",
     "output_type": "stream",
     "text": [
      "INFO:root:running build_ext\n",
      "INFO:root:building 'myokit_sim_1_1058785203555424114' extension\n",
      "INFO:root:creating build\n",
      "INFO:root:creating build\\temp.win-amd64-cpython-39\n",
      "INFO:root:creating build\\temp.win-amd64-cpython-39\\Release\n",
      "INFO:root:creating build\\temp.win-amd64-cpython-39\\Release\\Users\n",
      "INFO:root:creating build\\temp.win-amd64-cpython-39\\Release\\Users\\Kristin\n",
      "INFO:root:creating build\\temp.win-amd64-cpython-39\\Release\\Users\\Kristin\\AppData\n",
      "INFO:root:creating build\\temp.win-amd64-cpython-39\\Release\\Users\\Kristin\\AppData\\Local\n",
      "INFO:root:creating build\\temp.win-amd64-cpython-39\\Release\\Users\\Kristin\\AppData\\Local\\Temp\n",
      "INFO:root:creating build\\temp.win-amd64-cpython-39\\Release\\Users\\Kristin\\AppData\\Local\\Temp\\tmp3hdmpli7myokit\n",
      "INFO:root:\"C:\\Program Files (x86)\\Microsoft Visual Studio\\2019\\BuildTools\\VC\\Tools\\MSVC\\14.29.30133\\bin\\HostX86\\x64\\cl.exe\" /c /nologo /O2 /W3 /GL /DNDEBUG /MD -IC:\\Users\\Kristin\\AppData\\Local\\Packages\\PythonSoftwareFoundation.Python.3.9_qbz5n2kfra8p0\\LocalCache\\local-packages\\Python39\\site-packages\\myokit\\_bin\\sundials-win-vs\\include -IC:\\Users\\Kristin\\AppData\\Local\\Packages\\PythonSoftwareFoundation.Python.3.9_qbz5n2kfra8p0\\LocalCache\\local-packages\\Python39\\site-packages\\myokit\\_sim -IC:\\Users\\Kristin\\AppData\\Local\\Packages\\PythonSoftwareFoundation.Python.3.9_qbz5n2kfra8p0\\LocalCache\\local-packages\\Python39\\site-packages\\myokit\\_sim \"-IC:\\Program Files\\WindowsApps\\PythonSoftwareFoundation.Python.3.9_3.9.3568.0_x64__qbz5n2kfra8p0\\include\" \"-IC:\\Program Files\\WindowsApps\\PythonSoftwareFoundation.Python.3.9_3.9.3568.0_x64__qbz5n2kfra8p0\\Include\" \"-IC:\\Program Files (x86)\\Microsoft Visual Studio\\2019\\BuildTools\\VC\\Tools\\MSVC\\14.29.30133\\include\" \"-IC:\\Program Files (x86)\\Windows Kits\\10\\include\\10.0.19041.0\\ucrt\" \"-IC:\\Program Files (x86)\\Windows Kits\\10\\include\\10.0.19041.0\\shared\" \"-IC:\\Program Files (x86)\\Windows Kits\\10\\include\\10.0.19041.0\\um\" \"-IC:\\Program Files (x86)\\Windows Kits\\10\\include\\10.0.19041.0\\winrt\" \"-IC:\\Program Files (x86)\\Windows Kits\\10\\include\\10.0.19041.0\\cppwinrt\" /TcC:\\Users\\Kristin\\AppData\\Local\\Temp\\tmp3hdmpli7myokit\\source.c /Fobuild\\temp.win-amd64-cpython-39\\Release\\Users\\Kristin\\AppData\\Local\\Temp\\tmp3hdmpli7myokit\\source.obj\n",
      "INFO:root:creating C:\\Users\\Kristin\\AppData\\Local\\Temp\\tmp3hdmpli7myokit\\build\\build\\lib.win-amd64-cpython-39\n",
      "INFO:root:\"C:\\Program Files (x86)\\Microsoft Visual Studio\\2019\\BuildTools\\VC\\Tools\\MSVC\\14.29.30133\\bin\\HostX86\\x64\\link.exe\" /nologo /INCREMENTAL:NO /LTCG /DLL /MANIFEST:EMBED,ID=2 /MANIFESTUAC:NO /LIBPATH:C:\\Users\\Kristin\\AppData\\Local\\Packages\\PythonSoftwareFoundation.Python.3.9_qbz5n2kfra8p0\\LocalCache\\local-packages\\Python39\\site-packages\\myokit\\_bin\\sundials-win-vs\\lib \"/LIBPATH:C:\\Program Files\\WindowsApps\\PythonSoftwareFoundation.Python.3.9_3.9.3568.0_x64__qbz5n2kfra8p0\\libs\" \"/LIBPATH:C:\\Program Files\\WindowsApps\\PythonSoftwareFoundation.Python.3.9_3.9.3568.0_x64__qbz5n2kfra8p0\" \"/LIBPATH:C:\\Program Files\\WindowsApps\\PythonSoftwareFoundation.Python.3.9_3.9.3568.0_x64__qbz5n2kfra8p0\\PCbuild\\amd64\" \"/LIBPATH:C:\\Program Files (x86)\\Microsoft Visual Studio\\2019\\BuildTools\\VC\\Tools\\MSVC\\14.29.30133\\lib\\x64\" \"/LIBPATH:C:\\Program Files (x86)\\Windows Kits\\10\\lib\\10.0.19041.0\\ucrt\\x64\" \"/LIBPATH:C:\\Program Files (x86)\\Windows Kits\\10\\lib\\10.0.19041.0\\um\\x64\" sundials_cvodes.lib sundials_nvecserial.lib /EXPORT:PyInit_myokit_sim_1_1058785203555424114 build\\temp.win-amd64-cpython-39\\Release\\Users\\Kristin\\AppData\\Local\\Temp\\tmp3hdmpli7myokit\\source.obj /OUT:build\\lib.win-amd64-cpython-39\\myokit_sim_1_1058785203555424114.cp39-win_amd64.pyd /IMPLIB:build\\temp.win-amd64-cpython-39\\Release\\Users\\Kristin\\AppData\\Local\\Temp\\tmp3hdmpli7myokit\\myokit_sim_1_1058785203555424114.cp39-win_amd64.lib\n",
      "INFO:root:copying build\\lib.win-amd64-cpython-39\\myokit_sim_1_1058785203555424114.cp39-win_amd64.pyd -> \n"
     ]
    },
    {
     "data": {
      "text/plain": [
       "Text(0, 0.5, 'Membrane Potential (mV)')"
      ]
     },
     "execution_count": 2,
     "metadata": {},
     "output_type": "execute_result"
    },
    {
     "data": {
      "image/png": "[encoded data removed]",
      "text/plain": [
       "<Figure size 432x288 with 1 Axes>"
      ]
     },
     "metadata": {
      "needs_background": "light"
     },
     "output_type": "display_data"
    }
   ],
   "source": [
    "# Run and Plot ToR-ORd Model\n",
    "dat, IC = run_model([get_ind()], 1)\n",
    "plt.plot(dat['engine.time'], dat['membrane.v'])\n",
    "plt.xlabel('Time (ms)')\n",
    "plt.ylabel('Membrane Potential (mV)')"
   ]
  },
  {
   "cell_type": "markdown",
   "metadata": {},
   "source": [
    "Now lets adjust the Grandi model!\n",
    "\n",
    "The following updates were made: \n",
    "\n",
    "1. Comment out lines 96-97, 458-467 and 527-529\n",
    "2. Add the following three sections under the initial conditions:\n",
    "\n",
    "```\n",
    "[engine]\n",
    "time = 0 [ms] \n",
    "    in [ms]\n",
    "    bind time\n",
    "pace = 0 \n",
    "    bind pace\n",
    "\n",
    "[stimulus]\n",
    "i_stim = engine.pace * amplitude\n",
    "    in [A/F]\n",
    "amplitude = -1 [A/F]\n",
    "    in [A/F]\n",
    "    \n",
    "[multipliers]\n",
    "i_cal_pca_multiplier = 1 \n",
    "i_kr_multiplier = 1 \n",
    "i_ks_multiplier = 1 \n",
    "i_nal_multiplier = 0 #not in model\n",
    "i_na_multiplier = 1\n",
    "i_to_multiplier = 1\n",
    "i_k1_multiplier = 1\n",
    "i_NCX_multiplier = 1\n",
    "i_nak_multiplier = 1\n",
    "i_kb_multiplier = 1\n",
    "i_bias_multiplier = 0\n",
    "i_bias1_multiplier = 0\n",
    "\n",
    "[Ibias]\n",
    "Ibias = 1 * membrane.v/membrane.v * multipliers.i_bias_multiplier \n",
    "Ibias1 = 1 * membrane.v/membrane.v * multipliers.i_bias1_multiplier \n",
    "\n",
    "[INaL]\n",
    "#added from TORORD\n",
    "GNaL = GNaL_b\n",
    "    in [mS/uF]\n",
    "GNaL_b = 0.0279 * multipliers.i_nal_multiplier * 356 / 294 #356 is peak Grandi sodium and 293 is peak Tor-ORd\n",
    "INaL = INaL_junc +INaL_sl #split into junc and sl components because that is how INa is modeled in grandi\n",
    "    in [A/F]\n",
    "    oxmeta: membrane_persistent_sodium_current\n",
    "INaL_junc = GNaL * (membrane.v - parameters.ena_junc) * mL * ((1 - fINaLp) * hL + fINaLp * hLp)\n",
    "    in [A/F]\n",
    "INaL_sl = GNaL * (membrane.v - parameters.ena_sl) * mL * ((1 - fINaLp) * hL + fINaLp * hLp)\n",
    "    in [A/F]\n",
    "fINaLp = 1 / (1 + CaMK.KmCaMK / CaMK.CaMKa)\n",
    "    in [1]\n",
    "dot(hL) = (hLss - hL) / thL\n",
    "    in [1]\n",
    "dot(hLp) = (hLssp - hLp) / thLp\n",
    "    in [1]\n",
    "hLss = 1 / (1 + exp((membrane.v + 87.61 [mV]) / 7.488 [mV]))\n",
    "    in [1]\n",
    "hLssp = 1 / (1 + exp((membrane.v + 93.81 [mV]) / 7.488 [mV]))\n",
    "    in [1]\n",
    "dot(mL) = (mLss - mL) / tmL\n",
    "    in [1]\n",
    "mLss = 1 / (1 + exp(-(membrane.v + 42.85 [mV]) / 5.264 [mV]))\n",
    "    in [1]\n",
    "thL = 200 [ms]\n",
    "    in [ms]\n",
    "thLp = 3 * thL\n",
    "    in [ms]\n",
    "tmL = 0.1292 [ms] * exp(-((membrane.v + 45.79 [mV]) / 15.54 [mV]) ^ 2) + 0.06487 [ms] * exp(-((membrane.v - 4.823 [mV]) / 51.12 [mV]) ^ 2)\n",
    "    in [ms]\n",
    "\n",
    "[CaMK]\n",
    "#added from TORORD\n",
    "CaMKa = CaMKb + CaMKt\n",
    "    in [mM]\n",
    "CaMKb = CaMKo * (1 [mM] - CaMKt) / (1 + KmCaM / intracellular_ions.cai)\n",
    "    in [mM]\n",
    "CaMKo = 0.05\n",
    "    in [1]\n",
    "dot(CaMKt) = aCaMK * CaMKb * (CaMKb + CaMKt) - bCaMK * CaMKt\n",
    "    in [mM]\n",
    "KmCaM = 0.0015 [mM]\n",
    "    in [mM]\n",
    "KmCaMK = 0.15 [mM]\n",
    "    in [mM]\n",
    "aCaMK = 0.05 [1/mM/ms]\n",
    "    in [1/mM/ms]\n",
    "bCaMK = 0.00068 [mS/uF]\n",
    "    in [mS/uF]\n",
    "\n",
    "[intracellular_ions]\n",
    "dot(cai) = -SR_Fluxes.J_serca * parameters.Vsr / parameters.Vmyo - Cytosolic_Ca_Buffers.J_CaB_cytosol + parameters.J_ca_slmyo / parameters.Vmyo * (Ca_Concentrations.Ca_sl - cai)\n",
    "```\n",
    "\n",
    "3. Multiply the pCa, pk, and PNa equation by multipliers.i_cal_pca_multiplier in lines 783, 785, and 787; the gkr equation by multipliers.i_kr_multiplier in line 300; the I_ks equation by multipliers.i_ks_multiplier in line 312; the GNaL_b equation by multipliers.i_nal_multiplier in line 130 (should already be there by pasting the [INaL] section code above); the GNa equation by multipliers.i_na_multiplier in line 613; the I_to equation by multipliers.i_to_multiplier in line 422; the I_ki equation by multipliers.i_k1_multiplier in line 278; the I_ncx equation by multipliers.i_NCX_multiplier in line 332; the I_nak equation by multipliers.i_nak_multiplier in line 398; and the gkp equation by multipliers.i_kb_multiplier in line 717.\n",
    "\n",
    "4. Change the ```[membrane_potential]``` section to ```[membrane]``` and replace the I_tot equation at line 540 with:\n",
    "```\n",
    "i_ion = I_Na_tot + I_Cl_tot + I_Ca_tot + K_Concentration.I_K_tot + Ibias.Ibias + Ibias.Ibias1\n",
    "```\n",
    "\n",
    "5. At line 541, change the dot(V_m) equation to:\n",
    "\n",
    "```\n",
    "dot(v) = -(i_ion + stimulus.i_stim)\n",
    "```\n",
    "\n",
    "6. Add the following section at line 792:\n",
    "\n",
    "```\n",
    "[[protocol]]\n",
    "#Level  Start    Length   Period   Multiplier\n",
    "#1      0       5        1000      0\n",
    "```\n",
    "\n",
    "7. Change every ```membrane_potential.V_m``` to ```membrane.v``` \n",
    "\n",
    "8. Add the following equation to the initial values section: \n",
    "\n",
    "```\n",
    "INaL.mL                             = 0.0001629 #added from TORORD\n",
    "INaL.hL                             = 0.5255 #added from TORORD\n",
    "INaL.hLp                            = 0.2872 #added from TORORD\n",
    "CaMK.CaMKt                          = 0.0111 #added from TORORD\n",
    "```\n",
    "\n",
    "9. Replace the I_Na_tot_junc and I_Na_tot_sl equations at lines 484 and 488 with:\n",
    "\n",
    "```\n",
    "I_Na_tot_junc = I_Na.I_Na_junc + I_NaBK.I_nabk_junc + 3 * I_NCX.I_ncx_junc + 3 * I_NaK.I_nak_junc + I_Ca.I_CaNa_junc+ INaL.INaL_junc\n",
    "\n",
    "I_Na_tot_sl = I_Na.I_Na_sl + I_NaBK.I_nabk_sl + 3 * I_NCX.I_ncx_sl + 3 * I_NaK.I_nak_sl + I_Ca.I_CaNa_sl + INaL.INaL_sl\n",
    "```\n",
    "\n",
    "10. Replace every ```Ca_i``` in ```[Ca_Concentrations]``` with ```intracellular_ions.cai``` and every ```Ca_Concentrations.Ca_i``` with ```intracellular_ions.cai```\n",
    "\n",
    "11. Set the epi parameter in line 719 to 0 so that we make sure to use the endocardial version of the model. \n",
    "\n",
    "Now check to make sure that this model works properly."
   ]
  },
  {
   "cell_type": "code",
   "execution_count": 2,
   "metadata": {},
   "outputs": [
    {
     "name": "stderr",
     "output_type": "stream",
     "text": [
      "INFO:root:running build_ext\n",
      "INFO:root:building 'myokit_sim_1_8854249327740454962' extension\n",
      "INFO:root:creating build\n",
      "INFO:root:creating build\\temp.win-amd64-cpython-39\n",
      "INFO:root:creating build\\temp.win-amd64-cpython-39\\Release\n",
      "INFO:root:creating build\\temp.win-amd64-cpython-39\\Release\\Users\n",
      "INFO:root:creating build\\temp.win-amd64-cpython-39\\Release\\Users\\Kristin\n",
      "INFO:root:creating build\\temp.win-amd64-cpython-39\\Release\\Users\\Kristin\\AppData\n",
      "INFO:root:creating build\\temp.win-amd64-cpython-39\\Release\\Users\\Kristin\\AppData\\Local\n",
      "INFO:root:creating build\\temp.win-amd64-cpython-39\\Release\\Users\\Kristin\\AppData\\Local\\Temp\n",
      "INFO:root:creating build\\temp.win-amd64-cpython-39\\Release\\Users\\Kristin\\AppData\\Local\\Temp\\tmpb0groz8umyokit\n",
      "INFO:root:\"C:\\Program Files (x86)\\Microsoft Visual Studio\\2019\\BuildTools\\VC\\Tools\\MSVC\\14.29.30133\\bin\\HostX86\\x64\\cl.exe\" /c /nologo /O2 /W3 /GL /DNDEBUG /MD -IC:\\Users\\Kristin\\AppData\\Local\\Packages\\PythonSoftwareFoundation.Python.3.9_qbz5n2kfra8p0\\LocalCache\\local-packages\\Python39\\site-packages\\myokit\\_bin\\sundials-win-vs\\include -IC:\\Users\\Kristin\\AppData\\Local\\Packages\\PythonSoftwareFoundation.Python.3.9_qbz5n2kfra8p0\\LocalCache\\local-packages\\Python39\\site-packages\\myokit\\_sim -IC:\\Users\\Kristin\\AppData\\Local\\Packages\\PythonSoftwareFoundation.Python.3.9_qbz5n2kfra8p0\\LocalCache\\local-packages\\Python39\\site-packages\\myokit\\_sim \"-IC:\\Program Files\\WindowsApps\\PythonSoftwareFoundation.Python.3.9_3.9.3568.0_x64__qbz5n2kfra8p0\\include\" \"-IC:\\Program Files\\WindowsApps\\PythonSoftwareFoundation.Python.3.9_3.9.3568.0_x64__qbz5n2kfra8p0\\Include\" \"-IC:\\Program Files (x86)\\Microsoft Visual Studio\\2019\\BuildTools\\VC\\Tools\\MSVC\\14.29.30133\\include\" \"-IC:\\Program Files (x86)\\Windows Kits\\10\\include\\10.0.19041.0\\ucrt\" \"-IC:\\Program Files (x86)\\Windows Kits\\10\\include\\10.0.19041.0\\shared\" \"-IC:\\Program Files (x86)\\Windows Kits\\10\\include\\10.0.19041.0\\um\" \"-IC:\\Program Files (x86)\\Windows Kits\\10\\include\\10.0.19041.0\\winrt\" \"-IC:\\Program Files (x86)\\Windows Kits\\10\\include\\10.0.19041.0\\cppwinrt\" /TcC:\\Users\\Kristin\\AppData\\Local\\Temp\\tmpb0groz8umyokit\\source.c /Fobuild\\temp.win-amd64-cpython-39\\Release\\Users\\Kristin\\AppData\\Local\\Temp\\tmpb0groz8umyokit\\source.obj\n",
      "INFO:root:creating C:\\Users\\Kristin\\AppData\\Local\\Temp\\tmpb0groz8umyokit\\build\\build\\lib.win-amd64-cpython-39\n",
      "INFO:root:\"C:\\Program Files (x86)\\Microsoft Visual Studio\\2019\\BuildTools\\VC\\Tools\\MSVC\\14.29.30133\\bin\\HostX86\\x64\\link.exe\" /nologo /INCREMENTAL:NO /LTCG /DLL /MANIFEST:EMBED,ID=2 /MANIFESTUAC:NO /LIBPATH:C:\\Users\\Kristin\\AppData\\Local\\Packages\\PythonSoftwareFoundation.Python.3.9_qbz5n2kfra8p0\\LocalCache\\local-packages\\Python39\\site-packages\\myokit\\_bin\\sundials-win-vs\\lib \"/LIBPATH:C:\\Program Files\\WindowsApps\\PythonSoftwareFoundation.Python.3.9_3.9.3568.0_x64__qbz5n2kfra8p0\\libs\" \"/LIBPATH:C:\\Program Files\\WindowsApps\\PythonSoftwareFoundation.Python.3.9_3.9.3568.0_x64__qbz5n2kfra8p0\" \"/LIBPATH:C:\\Program Files\\WindowsApps\\PythonSoftwareFoundation.Python.3.9_3.9.3568.0_x64__qbz5n2kfra8p0\\PCbuild\\amd64\" \"/LIBPATH:C:\\Program Files (x86)\\Microsoft Visual Studio\\2019\\BuildTools\\VC\\Tools\\MSVC\\14.29.30133\\lib\\x64\" \"/LIBPATH:C:\\Program Files (x86)\\Windows Kits\\10\\lib\\10.0.19041.0\\ucrt\\x64\" \"/LIBPATH:C:\\Program Files (x86)\\Windows Kits\\10\\lib\\10.0.19041.0\\um\\x64\" sundials_cvodes.lib sundials_nvecserial.lib /EXPORT:PyInit_myokit_sim_1_8854249327740454962 build\\temp.win-amd64-cpython-39\\Release\\Users\\Kristin\\AppData\\Local\\Temp\\tmpb0groz8umyokit\\source.obj /OUT:build\\lib.win-amd64-cpython-39\\myokit_sim_1_8854249327740454962.cp39-win_amd64.pyd /IMPLIB:build\\temp.win-amd64-cpython-39\\Release\\Users\\Kristin\\AppData\\Local\\Temp\\tmpb0groz8umyokit\\myokit_sim_1_8854249327740454962.cp39-win_amd64.lib\n",
      "INFO:root:copying build\\lib.win-amd64-cpython-39\\myokit_sim_1_8854249327740454962.cp39-win_amd64.pyd -> \n"
     ]
    },
    {
     "data": {
      "text/plain": [
       "Text(0, 0.5, 'Membrane Potential (mV)')"
      ]
     },
     "execution_count": 2,
     "metadata": {},
     "output_type": "execute_result"
    },
    {
     "data": {
      "image/png": "[encoded data removed]",
      "text/plain": [
       "<Figure size 432x288 with 1 Axes>"
      ]
     },
     "metadata": {
      "needs_background": "light"
     },
     "output_type": "display_data"
    }
   ],
   "source": [
    "# Run and Plot Grandi Model\n",
    "dat_grandi, IC = run_model([{'i_nal_multiplier': 0}], 1, prepace = 600, stim = 1, length = 5, model = 'grandi_flat.mmt')\n",
    "\n",
    "plt.plot(dat_grandi['engine.time'], dat_grandi['membrane.v'])\n",
    "plt.xlabel('Time (ms)')\n",
    "plt.ylabel('Membrane Potential (mV)')"
   ]
  }
 ],
 "metadata": {
  "kernelspec": {
   "display_name": "Python 3",
   "language": "python",
   "name": "python3"
  },
  "language_info": {
   "codemirror_mode": {
    "name": "ipython",
    "version": 3
   },
   "file_extension": ".py",
   "mimetype": "text/x-python",
   "name": "python",
   "nbconvert_exporter": "python",
   "pygments_lexer": "ipython3",
   "version": "3.9.13"
  },
  "orig_nbformat": 4
 },
 "nbformat": 4,
 "nbformat_minor": 2
}
